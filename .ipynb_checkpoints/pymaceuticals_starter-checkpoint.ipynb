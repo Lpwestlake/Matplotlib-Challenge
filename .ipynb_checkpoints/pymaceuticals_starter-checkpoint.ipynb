{
 "cells": [
  {
   "cell_type": "markdown",
   "metadata": {},
   "source": [
    "## Observations and Insights"
   ]
  },
  {
   "cell_type": "markdown",
   "metadata": {},
   "source": []
  },
  {
   "cell_type": "markdown",
   "metadata": {},
   "source": [
    "## Dependencies and starter code"
   ]
  },
  {
   "cell_type": "code",
   "execution_count": 1,
   "metadata": {},
   "outputs": [
    {
     "data": {
      "text/html": [
       "<div>\n",
       "<style scoped>\n",
       "    .dataframe tbody tr th:only-of-type {\n",
       "        vertical-align: middle;\n",
       "    }\n",
       "\n",
       "    .dataframe tbody tr th {\n",
       "        vertical-align: top;\n",
       "    }\n",
       "\n",
       "    .dataframe thead th {\n",
       "        text-align: right;\n",
       "    }\n",
       "</style>\n",
       "<table border=\"1\" class=\"dataframe\">\n",
       "  <thead>\n",
       "    <tr style=\"text-align: right;\">\n",
       "      <th></th>\n",
       "      <th>Mouse ID</th>\n",
       "      <th>Drug Regimen</th>\n",
       "      <th>Sex</th>\n",
       "      <th>Age_months</th>\n",
       "      <th>Weight (g)</th>\n",
       "      <th>Timepoint</th>\n",
       "      <th>Tumor Volume (mm3)</th>\n",
       "      <th>Metastatic Sites</th>\n",
       "    </tr>\n",
       "  </thead>\n",
       "  <tbody>\n",
       "    <tr>\n",
       "      <td>0</td>\n",
       "      <td>k403</td>\n",
       "      <td>Ramicane</td>\n",
       "      <td>Male</td>\n",
       "      <td>21</td>\n",
       "      <td>16</td>\n",
       "      <td>0</td>\n",
       "      <td>45.000000</td>\n",
       "      <td>0</td>\n",
       "    </tr>\n",
       "    <tr>\n",
       "      <td>1</td>\n",
       "      <td>k403</td>\n",
       "      <td>Ramicane</td>\n",
       "      <td>Male</td>\n",
       "      <td>21</td>\n",
       "      <td>16</td>\n",
       "      <td>5</td>\n",
       "      <td>38.825898</td>\n",
       "      <td>0</td>\n",
       "    </tr>\n",
       "    <tr>\n",
       "      <td>2</td>\n",
       "      <td>k403</td>\n",
       "      <td>Ramicane</td>\n",
       "      <td>Male</td>\n",
       "      <td>21</td>\n",
       "      <td>16</td>\n",
       "      <td>10</td>\n",
       "      <td>35.014271</td>\n",
       "      <td>1</td>\n",
       "    </tr>\n",
       "    <tr>\n",
       "      <td>3</td>\n",
       "      <td>k403</td>\n",
       "      <td>Ramicane</td>\n",
       "      <td>Male</td>\n",
       "      <td>21</td>\n",
       "      <td>16</td>\n",
       "      <td>15</td>\n",
       "      <td>34.223992</td>\n",
       "      <td>1</td>\n",
       "    </tr>\n",
       "    <tr>\n",
       "      <td>4</td>\n",
       "      <td>k403</td>\n",
       "      <td>Ramicane</td>\n",
       "      <td>Male</td>\n",
       "      <td>21</td>\n",
       "      <td>16</td>\n",
       "      <td>20</td>\n",
       "      <td>32.997729</td>\n",
       "      <td>1</td>\n",
       "    </tr>\n",
       "  </tbody>\n",
       "</table>\n",
       "</div>"
      ],
      "text/plain": [
       "  Mouse ID Drug Regimen   Sex  Age_months  Weight (g)  Timepoint  \\\n",
       "0     k403     Ramicane  Male          21          16          0   \n",
       "1     k403     Ramicane  Male          21          16          5   \n",
       "2     k403     Ramicane  Male          21          16         10   \n",
       "3     k403     Ramicane  Male          21          16         15   \n",
       "4     k403     Ramicane  Male          21          16         20   \n",
       "\n",
       "   Tumor Volume (mm3)  Metastatic Sites  \n",
       "0           45.000000                 0  \n",
       "1           38.825898                 0  \n",
       "2           35.014271                 1  \n",
       "3           34.223992                 1  \n",
       "4           32.997729                 1  "
      ]
     },
     "execution_count": 1,
     "metadata": {},
     "output_type": "execute_result"
    }
   ],
   "source": [
    "# Dependencies and Setup\n",
    "import matplotlib.pyplot as plt\n",
    "import pandas as pd\n",
    "import scipy.stats as sts\n",
    "import numpy as np\n",
    "\n",
    "# Study data files\n",
    "mouse_metadata = \"data/Mouse_metadata.csv\"\n",
    "study_results = \"data/Study_results.csv\"\n",
    "\n",
    "# Read the mouse data and the study results\n",
    "mouse_metadata = pd.read_csv(mouse_metadata)\n",
    "study_results = pd.read_csv(study_results)\n",
    "\n",
    "# Combine the data into a single dataset\n",
    "comp_data = pd.merge(mouse_metadata, study_results, how=\"left\", on=[\"Mouse ID\"])\n",
    "comp_data.head()"
   ]
  },
  {
   "cell_type": "markdown",
   "metadata": {},
   "source": [
    "## Summary statistics"
   ]
  },
  {
   "cell_type": "code",
   "execution_count": 2,
   "metadata": {},
   "outputs": [
    {
     "data": {
      "text/html": [
       "<div>\n",
       "<style scoped>\n",
       "    .dataframe tbody tr th:only-of-type {\n",
       "        vertical-align: middle;\n",
       "    }\n",
       "\n",
       "    .dataframe tbody tr th {\n",
       "        vertical-align: top;\n",
       "    }\n",
       "\n",
       "    .dataframe thead th {\n",
       "        text-align: right;\n",
       "    }\n",
       "</style>\n",
       "<table border=\"1\" class=\"dataframe\">\n",
       "  <thead>\n",
       "    <tr style=\"text-align: right;\">\n",
       "      <th></th>\n",
       "      <th>Tumor Volume (mean)</th>\n",
       "      <th>Tumor Volume (median)</th>\n",
       "      <th>Tumor Volume (SEM)</th>\n",
       "      <th>Tumor Volume (Std Dev)</th>\n",
       "      <th>Tumor Volume (Variance)</th>\n",
       "    </tr>\n",
       "    <tr>\n",
       "      <th>Drug Regimen</th>\n",
       "      <th></th>\n",
       "      <th></th>\n",
       "      <th></th>\n",
       "      <th></th>\n",
       "      <th></th>\n",
       "    </tr>\n",
       "  </thead>\n",
       "  <tbody>\n",
       "    <tr>\n",
       "      <td>Capomulin</td>\n",
       "      <td>40.675741</td>\n",
       "      <td>41.557809</td>\n",
       "      <td>0.329346</td>\n",
       "      <td>4.994774</td>\n",
       "      <td>24.947764</td>\n",
       "    </tr>\n",
       "    <tr>\n",
       "      <td>Ceftamin</td>\n",
       "      <td>52.591172</td>\n",
       "      <td>51.776157</td>\n",
       "      <td>0.469821</td>\n",
       "      <td>6.268188</td>\n",
       "      <td>39.290177</td>\n",
       "    </tr>\n",
       "    <tr>\n",
       "      <td>Infubinol</td>\n",
       "      <td>52.884795</td>\n",
       "      <td>51.820584</td>\n",
       "      <td>0.492236</td>\n",
       "      <td>6.567243</td>\n",
       "      <td>43.128684</td>\n",
       "    </tr>\n",
       "    <tr>\n",
       "      <td>Ketapril</td>\n",
       "      <td>55.235638</td>\n",
       "      <td>53.698743</td>\n",
       "      <td>0.603860</td>\n",
       "      <td>8.279709</td>\n",
       "      <td>68.553577</td>\n",
       "    </tr>\n",
       "    <tr>\n",
       "      <td>Naftisol</td>\n",
       "      <td>54.331565</td>\n",
       "      <td>52.509285</td>\n",
       "      <td>0.596466</td>\n",
       "      <td>8.134708</td>\n",
       "      <td>66.173479</td>\n",
       "    </tr>\n",
       "  </tbody>\n",
       "</table>\n",
       "</div>"
      ],
      "text/plain": [
       "              Tumor Volume (mean)  Tumor Volume (median)  Tumor Volume (SEM)  \\\n",
       "Drug Regimen                                                                   \n",
       "Capomulin               40.675741              41.557809            0.329346   \n",
       "Ceftamin                52.591172              51.776157            0.469821   \n",
       "Infubinol               52.884795              51.820584            0.492236   \n",
       "Ketapril                55.235638              53.698743            0.603860   \n",
       "Naftisol                54.331565              52.509285            0.596466   \n",
       "\n",
       "              Tumor Volume (Std Dev)  Tumor Volume (Variance)  \n",
       "Drug Regimen                                                   \n",
       "Capomulin                   4.994774                24.947764  \n",
       "Ceftamin                    6.268188                39.290177  \n",
       "Infubinol                   6.567243                43.128684  \n",
       "Ketapril                    8.279709                68.553577  \n",
       "Naftisol                    8.134708                66.173479  "
      ]
     },
     "execution_count": 2,
     "metadata": {},
     "output_type": "execute_result"
    }
   ],
   "source": [
    "# Generate a summary statistics table of mean, median, variance, standard deviation, and SEM of the tumor volume for each regimen\n",
    "\n",
    "# calculations for mean, median, vaiance, std dev, and SEM\n",
    "tumor_mean = comp_data.groupby([\"Drug Regimen\"]).mean()[\"Tumor Volume (mm3)\"]\n",
    "tumor_median = comp_data.groupby([\"Drug Regimen\"]).median()[\"Tumor Volume (mm3)\"]\n",
    "tumor_sem = comp_data.groupby([\"Drug Regimen\"]).sem()[\"Tumor Volume (mm3)\"]\n",
    "tumor_std_dev = comp_data.groupby([\"Drug Regimen\"]).std()[\"Tumor Volume (mm3)\"]\n",
    "tumor_var = comp_data.groupby([\"Drug Regimen\"]).var()[\"Tumor Volume (mm3)\"]\n",
    "\n",
    "# dataframes to build summary table\n",
    "tumor_mean_df = pd.DataFrame(tumor_mean)\n",
    "tumor_median_df = pd.DataFrame(tumor_median)\n",
    "tumor_sem_df = pd.DataFrame(tumor_sem)\n",
    "tumor_std_df = pd.DataFrame(tumor_std_dev)\n",
    "tumor_var_df = pd.DataFrame(tumor_var)\n",
    "\n",
    "# joining dataframes to eventually get one summary table showing all stats\n",
    "tumor_mm_df = pd.merge(tumor_mean_df, tumor_median_df, how=\"left\", on=[\"Drug Regimen\"])\n",
    "tumor_mms_df = pd.merge(tumor_mm_df, tumor_sem_df, how=\"left\", on=[\"Drug Regimen\"])\n",
    "\n",
    "# rename columns to state mean and median rather than x/y and add SEM\n",
    "tumor_mms_df = tumor_mms_df.rename(columns={\"Tumor Volume (mm3)_x\":\"Tumor Volume (mean)\", \"Tumor Volume (mm3)_y\":\"Tumor Volume (median)\", \"Tumor Volume (mm3)\":\"Tumor Volume (SEM)\"}) \n",
    "\n",
    "# merge in new std dev dataframe\n",
    "tumor_mmss_df = pd.merge(tumor_mms_df, tumor_std_df, how=\"left\", on=[\"Drug Regimen\"])\n",
    "\n",
    "# rename column to say std dev\n",
    "tumor_mmss_df = tumor_mmss_df.rename(columns={\"Tumor Volume (mm3)\":\"Tumor Volume (Std Dev)\"}) \n",
    "\n",
    "# merge in new variance dataframe\n",
    "tumor_all_df = pd.merge(tumor_mmss_df, tumor_var_df, how=\"left\", on=[\"Drug Regimen\"])\n",
    "\n",
    "# ename column to say variance\n",
    "tumor_all_df = tumor_all_df.rename(columns={\"Tumor Volume (mm3)\":\"Tumor Volume (Variance)\"}) \n",
    "# round to 2 decimals\n",
    "tumor_all_df.head()"
   ]
  },
  {
   "cell_type": "markdown",
   "metadata": {},
   "source": [
    "## Bar plots"
   ]
  },
  {
   "cell_type": "code",
   "execution_count": 3,
   "metadata": {},
   "outputs": [
    {
     "data": {
      "image/png": "[encoded data removed]",
      "text/plain": [
       "<Figure size 432x288 with 1 Axes>"
      ]
     },
     "metadata": {
      "needs_background": "light"
     },
     "output_type": "display_data"
    }
   ],
   "source": [
    "# Generate a bar plot showing number of data points for each treatment regimen using pandas\n",
    "\n",
    "# count data points\n",
    "comp_data_gb = comp_data.groupby(\"Drug Regimen\")[\"Mouse ID\"].count()\n",
    "\n",
    "# convert to dataframe\n",
    "data_point_df = pd.DataFrame(comp_data_gb).reset_index()\n",
    "data_point_df.columns = ['Drug Regimen', 'Data Points']\n",
    "data_point_df = data_point_df.sort_values('Data Points', ascending = False)\n",
    "\n",
    "# define colors\n",
    "colors = [\"cyan\", \"green\", \"blue\", \"red\", \"yellow\", \"purple\", \"orange\", \"brown\", \"black\", \"pink\"]\n",
    "\n",
    "# plot the bar graph\n",
    "data_point_df.plot(kind='bar', x='Drug Regimen', y='Data Points', color=colors, legend = False, width=0.5)\n",
    "\n",
    "# name the x and y labels\n",
    "plt.xlabel(\"Drug Regimen\")\n",
    "plt.ylabel(\"Count of Data Points\")\n",
    "plt.show()"
   ]
  },
  {
   "cell_type": "code",
   "execution_count": 4,
   "metadata": {},
   "outputs": [
    {
     "data": {
      "image/png": "[encoded data removed]",
      "text/plain": [
       "<Figure size 432x288 with 1 Axes>"
      ]
     },
     "metadata": {
      "needs_background": "light"
     },
     "output_type": "display_data"
    }
   ],
   "source": [
    "# Generate a bar plot showing number of data points for each treatment regimen using pyplot\n",
    "x_axis = data_point_df[\"Drug Regimen\"]\n",
    "tick_labels = [value for value in x_axis]\n",
    "\n",
    "# plot the bar graph\n",
    "plt.bar(x_axis, data_point_df[\"Data Points\"], color=colors, alpha=1, align=\"center\", width=0.5)\n",
    "\n",
    "# set x and y limits to get rid of some white space\n",
    "plt.xlim(-0.50, len(x_axis)-0.5)\n",
    "plt.ylim(0, max(data_point_df[\"Data Points\"]) + 10)\n",
    "\n",
    "# make labels be vertical\n",
    "plt.xticks(tick_labels, data_point_df[\"Drug Regimen\"], rotation=\"vertical\")\n",
    "\n",
    "# give the chart an x label, and y label\n",
    "plt.xlabel(\"Drug Regimen\")\n",
    "plt.ylabel(\"Count of Data Points\")\n",
    "plt.show()"
   ]
  },
  {
   "cell_type": "markdown",
   "metadata": {},
   "source": [
    "## Pie plots"
   ]
  },
  {
   "cell_type": "code",
   "execution_count": 5,
   "metadata": {},
   "outputs": [
    {
     "data": {
      "text/plain": [
       "[Text(0, 0.5, '')]"
      ]
     },
     "execution_count": 5,
     "metadata": {},
     "output_type": "execute_result"
    },
    {
     "data": {
      "image/png": "[encoded data removed]",
      "text/plain": [
       "<Figure size 432x432 with 1 Axes>"
      ]
     },
     "metadata": {},
     "output_type": "display_data"
    }
   ],
   "source": [
    "# Generate a pie plot showing the distribution of female versus male mice using pandas\n",
    "\n",
    "# Collect the data points \n",
    "gender_gb = comp_data.groupby(\"Sex\")[\"Mouse ID\"].count()\n",
    "\n",
    "# convert from series to dataframe\n",
    "gender_df = pd.DataFrame(gender_gb).reset_index()\n",
    "gender_df.columns = ['Sex', 'Mice']\n",
    "gender_df = gender_df.sort_values('Mice', ascending = False)\n",
    "gender_df.index = gender_df[\"Sex\"]\n",
    "\n",
    "\n",
    "gender_pie = gender_df.plot(kind='pie', y='Mice', figsize=(6, 6), autopct='%1.1f%%', startangle=90, legend = True, title=\"Gender\")\n",
    "\n",
    "gender_pie.set(ylabel=\"\")\n",
    "\n"
   ]
  },
  {
   "cell_type": "code",
   "execution_count": 6,
   "metadata": {},
   "outputs": [
    {
     "data": {
      "image/png": "[encoded data removed]",
      "text/plain": [
       "<Figure size 432x288 with 1 Axes>"
      ]
     },
     "metadata": {},
     "output_type": "display_data"
    }
   ],
   "source": [
    "# Generate a pie plot showing the distribution of female versus male mice using pyplot\n",
    "\n",
    "# create a pie chart\n",
    "plt.pie(\n",
    "    gender_df['Mice'],\n",
    "    labels=gender_df['Sex'],\n",
    "    startangle=90,\n",
    "    # with the percent listed as a fraction\n",
    "    autopct='%1.1f%%'\n",
    "    )\n",
    "\n",
    "# ensure circular shape\n",
    "plt.axis('equal')\n",
    "\n",
    "# add the title and legend\n",
    "plt.legend(gender_df['Sex'])\n",
    "plt.title(\"Gender\")\n",
    "\n",
    "# view the plot\n",
    "plt.tight_layout()\n",
    "plt.show()"
   ]
  },
  {
   "cell_type": "markdown",
   "metadata": {},
   "source": [
    "## Quartiles, outliers and boxplots"
   ]
  },
  {
   "cell_type": "code",
   "execution_count": 8,
   "metadata": {},
   "outputs": [
    {
     "name": "stdout",
     "output_type": "stream",
     "text": [
      "The lower quartile of Capomulin is: 32.38\n",
      "The upper quartile of Capomulin is: 40.16\n",
      "The interquartile range of Capomulin is: 7.78\n",
      "-------------------------\n",
      "The lower quartile of Ramicane is: 31.56\n",
      "The upper quartile of Ramicane is: 40.66\n",
      "The interquartile range of Ramicane is: 9.1\n",
      "-------------------------\n",
      "The lower quartile of Infubinol is: 54.05\n",
      "The upper quartile of Infubinol is: 65.53\n",
      "The interquartile range of Infubinol is: 11.48\n",
      "-------------------------\n",
      "The lower quartile of Ceftamin is: 48.72\n",
      "The upper quartile of Ceftamin is: 64.3\n",
      "The interquartile range of Ceftamin is: 15.58\n"
     ]
    }
   ],
   "source": [
    "# calculate the final tumor volume of each mouse across four of the most promising #treatment regimens. \n",
    "# calculate the IQR and quantitatively determine if there are any potential outliers. \n",
    "\n",
    "max_tumor = comp_data.groupby([\"Mouse ID\"]).max()\n",
    "max_tumor = max_tumor.reset_index()\n",
    "\n",
    "merged_df = max_tumor[[\"Mouse ID\", \"Timepoint\"]].merge(comp_data, on=[\"Mouse ID\", \"Timepoint\"], how=\"left\")\n",
    "\n",
    "cap = merged_df.loc[merged_df[\"Drug Regimen\"] == \"Capomulin\"]['Tumor Volume (mm3)']\n",
    "cap_quartiles = cap.quantile([.25,.5,.75])\n",
    "cap_lowerq = cap_quartiles[0.25]\n",
    "cap_upperq = cap_quartiles[0.75]\n",
    "cap_iqr = cap_upperq - cap_lowerq\n",
    "cap_lower_bound = cap_lowerq - (1.5*cap_iqr)\n",
    "cap_upper_bound = cap_upperq - (1.5*cap_iqr)\n",
    "\n",
    "ram = merged_df.loc[merged_df[\"Drug Regimen\"] == \"Ramicane\"]['Tumor Volume (mm3)']\n",
    "ram_quartiles = ram.quantile([.25,.5,.75])\n",
    "ram_lowerq = ram_quartiles[0.25]\n",
    "ram_upperq = ram_quartiles[0.75]\n",
    "ram_iqr = ram_upperq - ram_lowerq\n",
    "ram_lower_bound = ram_lowerq - (1.5*ram_iqr)\n",
    "ram_upper_bound = ram_upperq - (1.5*ram_iqr)\n",
    "\n",
    "inf = merged_df.loc[merged_df[\"Drug Regimen\"] == \"Infubinol\"]['Tumor Volume (mm3)']\n",
    "inf_quartiles = inf.quantile([.25,.5,.75])\n",
    "inf_lowerq = inf_quartiles[0.25]\n",
    "inf_upperq = inf_quartiles[0.75]\n",
    "inf_iqr = inf_upperq - inf_lowerq\n",
    "inf_lower_bound = inf_lowerq - (1.5*inf_iqr)\n",
    "inf_upper_bound = inf_upperq - (1.5*inf_iqr)\n",
    "\n",
    "cef = merged_df.loc[merged_df[\"Drug Regimen\"] == \"Ceftamin\"]['Tumor Volume (mm3)']\n",
    "cef_quartiles = cef.quantile([.25,.5,.75])\n",
    "cef_lowerq = cef_quartiles[0.25]\n",
    "cef_upperq = cef_quartiles[0.75]\n",
    "cef_iqr = cef_upperq - cef_lowerq\n",
    "cef_lower_bound = cef_lowerq - (1.5*cap_iqr)\n",
    "cef_upper_bound = cef_upperq - (1.5*cap_iqr)\n",
    "\n",
    "# print statements for results\n",
    "print(f\"The lower quartile of Capomulin is: {round(cap_lowerq, 2)}\")\n",
    "print(f\"The upper quartile of Capomulin is: {round(cap_upperq, 2)}\")\n",
    "print(f\"The interquartile range of Capomulin is: {round(cap_iqr, 2)}\")\n",
    "print(\"-------------------------\")\n",
    "print(f\"The lower quartile of Ramicane is: {round(ram_lowerq, 2)}\")\n",
    "print(f\"The upper quartile of Ramicane is: {round(ram_upperq, 2)}\")\n",
    "print(f\"The interquartile range of Ramicane is: {round(ram_iqr, 2)}\")\n",
    "print(\"-------------------------\")\n",
    "print(f\"The lower quartile of Infubinol is: {round(inf_lowerq, 2)}\")\n",
    "print(f\"The upper quartile of Infubinol is: {round(inf_upperq, 2)}\")\n",
    "print(f\"The interquartile range of Infubinol is: {round(inf_iqr, 2)}\")\n",
    "print(\"-------------------------\")\n",
    "print(f\"The lower quartile of Ceftamin is: {round(cef_lowerq, 2)}\")\n",
    "print(f\"The upper quartile of Ceftamin is: {round(cef_upperq, 2)}\")\n",
    "print(f\"The interquartile range of Ceftamin is: {round(cef_iqr, 2)}\")\n"
   ]
  },
  {
   "cell_type": "code",
   "execution_count": 10,
   "metadata": {},
   "outputs": [
    {
     "data": {
      "image/png": "[encoded data removed]",
      "text/plain": [
       "<Figure size 432x288 with 1 Axes>"
      ]
     },
     "metadata": {
      "needs_background": "light"
     },
     "output_type": "display_data"
    }
   ],
   "source": [
    "# Generate a box plot of the final tumor volume of each mouse across four regimens of interest\n",
    "\n",
    "green_diamond = dict(markerfacecolor='g', marker='D')\n",
    "\n",
    "plt.boxplot([cap,ram,inf,cef],labels=['Capomulin','Ramicane','Infubinol','Ceftamin'],flierprops=green_diamond)\n",
    "plt.ylabel('Final Tumor Volume (mm3)')\n",
    "plt.show()\n"
   ]
  },
  {
   "cell_type": "markdown",
   "metadata": {},
   "source": [
    "## Line and scatter plots"
   ]
  },
  {
   "cell_type": "code",
   "execution_count": 11,
   "metadata": {},
   "outputs": [
    {
     "data": {
      "image/png": "[encoded data removed]",
      "text/plain": [
       "<Figure size 432x288 with 1 Axes>"
      ]
     },
     "metadata": {
      "needs_background": "light"
     },
     "output_type": "display_data"
    }
   ],
   "source": [
    "# Generate a line plot of time point versus tumor volume for a mouse treated with Capomulin\n",
    "\n",
    "# select mouse and get related data for tumor volume and time\n",
    "mouse_id = \"m601\"\n",
    "cap_loc = comp_data.loc[comp_data[\"Drug Regimen\"] == \"Capomulin\"]\n",
    "mouse_cap = cap_loc.loc[cap_loc[\"Mouse ID\"] == mouse_id]\n",
    "cap_tumor = mouse_cap[\"Tumor Volume (mm3)\"]\n",
    "cap_timepoint = mouse_cap[\"Timepoint\"]\n",
    "\n",
    "# plot results\n",
    "plt.title(f\"Capomulin treatment of Mouse {mouse_id}\")\n",
    "plt.xlabel(\"Timepoint (days)\")\n",
    "plt.ylabel(\"Tumor Volume (mm3)\")\n",
    "plt.plot(cap_tumor, cap_timepoint, color=\"blue\", label=\"Capomulin\")\n",
    "plt.show()"
   ]
  },
  {
   "cell_type": "code",
   "execution_count": 12,
   "metadata": {},
   "outputs": [
    {
     "data": {
      "image/png": "[encoded data removed]",
      "text/plain": [
       "<Figure size 432x288 with 1 Axes>"
      ]
     },
     "metadata": {
      "needs_background": "light"
     },
     "output_type": "display_data"
    }
   ],
   "source": [
    "# Generate a scatter plot of mouse weight versus average tumor volume for the Capomulin regimen\n",
    "cap_loc = comp_data.loc[comp_data['Drug Regimen'] == \"Capomulin\"]\n",
    "cap_avg = cap_loc.groupby(['Mouse ID']).mean()\n",
    "plt.scatter(cap_avg['Weight (g)'],cap_avg['Tumor Volume (mm3)'])\n",
    "plt.xlabel('Weight (g)')\n",
    "plt.ylabel('Average Tumor Volume (mm3)')\n",
    "plt.show()\n"
   ]
  },
  {
   "cell_type": "code",
   "execution_count": 13,
   "metadata": {},
   "outputs": [
    {
     "name": "stdout",
     "output_type": "stream",
     "text": [
      "The correlation between mouse weight and average tumor volume is 0.84\n"
     ]
    },
    {
     "data": {
      "image/png": "[encoded data removed]",
      "text/plain": [
       "<Figure size 432x288 with 1 Axes>"
      ]
     },
     "metadata": {
      "needs_background": "light"
     },
     "output_type": "display_data"
    }
   ],
   "source": [
    "# Calculate the correlation coefficient and linear regression model for mouse weight and average tumor volume for the Capomulin regimen\n",
    "cap_loc = comp_data.loc[comp_data[\"Drug Regimen\"] == \"Capomulin\"]\n",
    "cap_weight = cap_avg['Weight (g)']\n",
    "cap_tumor_vol = cap_avg['Tumor Volume (mm3)']\n",
    "\n",
    "# calculate the correlation coefficient\n",
    "correlation = sts.pearsonr(cap_weight,cap_tumor_vol)\n",
    "print(f\"The correlation between mouse weight and average tumor volume is {round(correlation[0],2)}\")\n",
    "(slope, intercept, rvalue, pvalue, stderr) = sts.linregress(cap_weight, cap_tumor_vol)\n",
    "regress_values = cap_weight * slope + intercept\n",
    "line_eq = \"y = \" + str(round(slope,2)) + \"x + \" + str(round(intercept,2))\n",
    "\n",
    "# plot results\n",
    "plt.scatter(cap_weight,cap_tumor_vol)\n",
    "plt.plot(cap_weight,regress_values,\"r-\")\n",
    "plt.annotate(line_eq,(20,36),fontsize=15,color=\"red\")\n",
    "plt.xlabel('Weight (g)')\n",
    "plt.ylabel('Average Tumor Volume (mm3)')\n",
    "plt.show()"
   ]
  },
  {
   "cell_type": "code",
   "execution_count": null,
   "metadata": {},
   "outputs": [],
   "source": []
  }
 ],
 "metadata": {
  "anaconda-cloud": {},
  "kernelspec": {
   "display_name": "Python 3",
   "language": "python",
   "name": "python3"
  },
  "language_info": {
   "codemirror_mode": {
    "name": "ipython",
    "version": 3
   },
   "file_extension": ".py",
   "mimetype": "text/x-python",
   "name": "python",
   "nbconvert_exporter": "python",
   "pygments_lexer": "ipython3",
   "version": "3.7.4"
  }
 },
 "nbformat": 4,
 "nbformat_minor": 2
}
